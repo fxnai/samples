{
 "cells": [
  {
   "cell_type": "markdown",
   "metadata": {},
   "source": [
    "# Bringing your own GPU\n",
    "This predictor demonstrates how to bring your own GPU for making predictions on Function. Function integrates with [Runhouse](https://www.run.house/) to send your predictor code to your own custom GPU instances.\n",
    "\n",
    "> For startups, you'll find this especially useful if you have credits with the major cloud providers (e.g. AWS, Azure, GCP).\n",
    "\n",
    "> For enteprirse workloads, we instead recommend bringing your own cluster or running Function on-prem. [Reach out](mailto:sales@fxn.ai) to learn more."
   ]
  },
  {
   "cell_type": "markdown",
   "metadata": {},
   "source": [
    "## Installing Runhouse\n",
    "First, we'll need to install `rsync`:"
   ]
  },
  {
   "cell_type": "code",
   "execution_count": null,
   "metadata": {},
   "outputs": [],
   "source": [
    "!apt-get install -y rsync"
   ]
  },
  {
   "cell_type": "markdown",
   "metadata": {},
   "source": [
    "Now let's install Runhouse:"
   ]
  },
  {
   "cell_type": "code",
   "execution_count": null,
   "metadata": {},
   "outputs": [],
   "source": [
    "# Install RH\n",
    "%pip install runhouse"
   ]
  },
  {
   "cell_type": "markdown",
   "metadata": {},
   "source": [
    "To login to RH, we'll need a Runhouse token. Head over to [your Runhouse account](https://www.run.house/account) to generate your RH token.\n",
    "\n",
    "Next, create a Function environment variable with your Runhouse token. Open a terminal and run the following command:\n",
    "```bash\n",
    "# Create an environment variable for your Runhouse token\n",
    "fxn env create RH_TOKEN <Your Runhouse token>\n",
    "```\n",
    "\n",
    "Now, our predictor can login:"
   ]
  },
  {
   "cell_type": "code",
   "execution_count": 5,
   "metadata": {},
   "outputs": [
    {
     "data": {
      "text/html": [
       "<pre style=\"white-space:pre;overflow-x:auto;line-height:normal;font-family:Menlo,'DejaVu Sans Mono',consolas,'Courier New',monospace\">\n",
       "            ____              __                             @ @ @\n",
       "           <span style=\"color: #800080; text-decoration-color: #800080\">/</span> __ \\__  ______  <span style=\"color: #800080; text-decoration-color: #800080\">/</span> <span style=\"color: #800080; text-decoration-color: #800080\">/</span><span style=\"color: #ff00ff; text-decoration-color: #ff00ff\">_</span>  ____  __  __________     <span style=\"font-weight: bold\">[]</span>___\n",
       "          <span style=\"color: #800080; text-decoration-color: #800080\">/</span> <span style=\"color: #800080; text-decoration-color: #800080\">/_/</span> <span style=\"color: #800080; text-decoration-color: #800080\">/</span> <span style=\"color: #800080; text-decoration-color: #800080\">/</span> <span style=\"color: #800080; text-decoration-color: #800080\">/</span> <span style=\"color: #800080; text-decoration-color: #800080\">/</span> __ \\<span style=\"color: #800080; text-decoration-color: #800080\">/</span> __ \\<span style=\"color: #800080; text-decoration-color: #800080\">/</span> __ \\<span style=\"color: #800080; text-decoration-color: #800080\">/</span> <span style=\"color: #800080; text-decoration-color: #800080\">/</span> <span style=\"color: #800080; text-decoration-color: #800080\">/</span> <span style=\"color: #800080; text-decoration-color: #800080\">/</span> ___/ _ \\   <span style=\"color: #800080; text-decoration-color: #800080\">/</span>    <span style=\"color: #800080; text-decoration-color: #800080\">/</span>\\____    @@\n",
       "         <span style=\"color: #800080; text-decoration-color: #800080\">/</span> _, _/ <span style=\"color: #800080; text-decoration-color: #800080\">/_/</span> <span style=\"color: #800080; text-decoration-color: #800080\">/</span> <span style=\"color: #800080; text-decoration-color: #800080\">/</span> <span style=\"color: #800080; text-decoration-color: #800080\">/</span> <span style=\"color: #800080; text-decoration-color: #800080\">/</span> <span style=\"color: #800080; text-decoration-color: #800080\">/</span> <span style=\"color: #800080; text-decoration-color: #800080\">/</span> <span style=\"color: #800080; text-decoration-color: #800080\">/</span> <span style=\"color: #800080; text-decoration-color: #800080\">/_/</span> <span style=\"color: #800080; text-decoration-color: #800080\">/</span> <span style=\"color: #800080; text-decoration-color: #800080\">/_/</span> <span style=\"font-weight: bold\">(</span>__  <span style=\"font-weight: bold\">)</span>  __/  <span style=\"color: #800080; text-decoration-color: #800080\">/_/</span>\\_/<span style=\"color: #800080; text-decoration-color: #800080\">/____/</span>\\  @@@@\n",
       "        <span style=\"color: #800080; text-decoration-color: #800080\">/_/</span> |_|\\__,_/_/ <span style=\"color: #800080; text-decoration-color: #800080\">/_/_/</span> <span style=\"color: #800080; text-decoration-color: #800080\">/_/</span>\\____/\\__,_/____/\\___/   | || |||__|||   ||\n",
       "        \n",
       "</pre>\n"
      ],
      "text/plain": [
       "\n",
       "            ____              __                             @ @ @\n",
       "           \u001b[35m/\u001b[0m __ \\__  ______  \u001b[35m/\u001b[0m \u001b[35m/\u001b[0m\u001b[95m_\u001b[0m  ____  __  __________     \u001b[1m[\u001b[0m\u001b[1m]\u001b[0m___\n",
       "          \u001b[35m/\u001b[0m \u001b[35m/_/\u001b[0m \u001b[35m/\u001b[0m \u001b[35m/\u001b[0m \u001b[35m/\u001b[0m \u001b[35m/\u001b[0m __ \\\u001b[35m/\u001b[0m __ \\\u001b[35m/\u001b[0m __ \\\u001b[35m/\u001b[0m \u001b[35m/\u001b[0m \u001b[35m/\u001b[0m \u001b[35m/\u001b[0m ___/ _ \\   \u001b[35m/\u001b[0m    \u001b[35m/\u001b[0m\\____    @@\n",
       "         \u001b[35m/\u001b[0m _, _/ \u001b[35m/_/\u001b[0m \u001b[35m/\u001b[0m \u001b[35m/\u001b[0m \u001b[35m/\u001b[0m \u001b[35m/\u001b[0m \u001b[35m/\u001b[0m \u001b[35m/\u001b[0m \u001b[35m/\u001b[0m \u001b[35m/_/\u001b[0m \u001b[35m/\u001b[0m \u001b[35m/_/\u001b[0m \u001b[1m(\u001b[0m__  \u001b[1m)\u001b[0m  __/  \u001b[35m/_/\u001b[0m\\_/\u001b[35m/____/\u001b[0m\\  @@@@\n",
       "        \u001b[35m/_/\u001b[0m |_|\\__,_/_/ \u001b[35m/_/_/\u001b[0m \u001b[35m/_/\u001b[0m\\____/\\__,_/____/\\___/   | || |||__|||   ||\n",
       "        \n"
      ]
     },
     "metadata": {},
     "output_type": "display_data"
    },
    {
     "data": {
      "text/html": [
       "<pre style=\"white-space:pre;overflow-x:auto;line-height:normal;font-family:Menlo,'DejaVu Sans Mono',consolas,'Courier New',monospace\"><span style=\"color: #808000; text-decoration-color: #808000; font-weight: bold\">Retrieve your token 🔑 here to use 🏃 🏠 Runhouse for secrets and artifact management: </span><a href=\"https://api.run.house/dashboard/?option=token\" target=\"_blank\"><span style=\"color: #0000ff; text-decoration-color: #0000ff; text-decoration: underline\">https://api.run.house</span></a>\n",
       "</pre>\n"
      ],
      "text/plain": [
       "\u001b[1;33mRetrieve your token 🔑 here to use 🏃 🏠 Runhouse for secrets and artifact management: \u001b[0m\u001b]8;id=825588;https://api.run.house/dashboard/?option=token\u001b\\\u001b[4;94mhttps://api.run.house\u001b[0m\u001b]8;;\u001b\\\n"
      ]
     },
     "metadata": {},
     "output_type": "display_data"
    },
    {
     "name": "stdout",
     "output_type": "stream",
     "text": [
      "INFO | 2023-07-19 08:10:29,931 | Getting secrets from Vault.\n",
      "INFO | 2023-07-19 08:10:35,332 | Found credentials in shared credentials file: ~/.aws/credentials\n"
     ]
    },
    {
     "data": {
      "text/html": [
       "<pre style=\"white-space:pre;overflow-x:auto;line-height:normal;font-family:Menlo,'DejaVu Sans Mono',consolas,'Courier New',monospace\">/Library/Frameworks/Python.framework/Versions/3.10/lib/python3.10/site-packages/rich/live.py:231: UserWarning: \n",
       "install \"ipywidgets\" for Jupyter support\n",
       "  warnings.warn('install \"ipywidgets\" for Jupyter support')\n",
       "</pre>\n"
      ],
      "text/plain": [
       "/Library/Frameworks/Python.framework/Versions/3.10/lib/python3.10/site-packages/rich/live.py:231: UserWarning: \n",
       "install \"ipywidgets\" for Jupyter support\n",
       "  warnings.warn('install \"ipywidgets\" for Jupyter support')\n"
      ]
     },
     "metadata": {},
     "output_type": "display_data"
    },
    {
     "data": {
      "text/html": [
       "<pre style=\"white-space:pre;overflow-x:auto;line-height:normal;font-family:Menlo,'DejaVu Sans Mono',consolas,'Courier New',monospace\"></pre>\n"
      ],
      "text/plain": []
     },
     "metadata": {},
     "output_type": "display_data"
    },
    {
     "data": {
      "text/html": [
       "<pre style=\"white-space:pre;overflow-x:auto;line-height:normal;font-family:Menlo,'DejaVu Sans Mono',consolas,'Courier New',monospace\">/Library/Frameworks/Python.framework/Versions/3.10/lib/python3.10/site-packages/rich/live.py:231: UserWarning: \n",
       "install \"ipywidgets\" for Jupyter support\n",
       "  warnings.warn('install \"ipywidgets\" for Jupyter support')\n",
       "</pre>\n"
      ],
      "text/plain": [
       "/Library/Frameworks/Python.framework/Versions/3.10/lib/python3.10/site-packages/rich/live.py:231: UserWarning: \n",
       "install \"ipywidgets\" for Jupyter support\n",
       "  warnings.warn('install \"ipywidgets\" for Jupyter support')\n"
      ]
     },
     "metadata": {},
     "output_type": "display_data"
    },
    {
     "data": {
      "text/html": [
       "<pre style=\"white-space:pre;overflow-x:auto;line-height:normal;font-family:Menlo,'DejaVu Sans Mono',consolas,'Courier New',monospace\"></pre>\n"
      ],
      "text/plain": []
     },
     "metadata": {},
     "output_type": "display_data"
    },
    {
     "name": "stdout",
     "output_type": "stream",
     "text": [
      "I 07-19 08:10:37 aws_catalog.py:119] \u001b[2mFetching availability zones mapping for AWS...\u001b[0m\n",
      "INFO | 2023-07-19 08:10:39,158 | Found credentials in shared credentials file: ~/.aws/credentials\n",
      "INFO | 2023-07-19 08:10:39,925 | Uploaded secrets for to Vault for: ['aws']\n",
      "INFO | 2023-07-19 08:10:39,927 | Successfully logged into Runhouse.\n"
     ]
    }
   ],
   "source": [
    "import runhouse as rh\n",
    "from os import environ\n",
    "\n",
    "rh.login(\n",
    "    token=environ[\"RH_TOKEN\"],\n",
    "    download_secrets=True,\n",
    "    download_config=True,\n",
    "    upload_config=True,\n",
    "    upload_secrets=True,\n",
    "    interactive=False\n",
    ")"
   ]
  },
  {
   "cell_type": "code",
   "execution_count": 6,
   "metadata": {},
   "outputs": [
    {
     "name": "stdout",
     "output_type": "stream",
     "text": [
      "Checking credentials to enable clouds for SkyPilot.\n",
      "  \u001b[32m\u001b[1mAWS: enabled\u001b[0m          \n",
      "  \u001b[31m\u001b[1mAzure: disabled\u001b[0m          \n",
      "    Reason: ~/.azure/msal_token_cache.json does not exist. Run the following commands:\n",
      "      $ az login\n",
      "      $ az account set -s <subscription_id>\n",
      "    For more info: https://docs.microsoft.com/en-us/cli/azure/get-started-with-azure-cli\n",
      "  \u001b[31m\u001b[1mGCP: disabled\u001b[0m          \n",
      "    Reason: GCP tools are not installed or credentials are not set. Run the following commands:\n",
      "      $ pip install google-api-python-client\n",
      "      $ conda install -c conda-forge google-cloud-sdk -y\n",
      "      $ gcloud init\n",
      "      $ gcloud auth application-default login\n",
      "    For more info: https://skypilot.readthedocs.io/en/latest/getting-started/installation.html\n",
      "  \u001b[31m\u001b[1mLambda: disabled\u001b[0m          \n",
      "    Reason: Failed to access Lambda Cloud with credentials. To configure credentials, go to:\n",
      "      https://cloud.lambdalabs.com/api-keys\n",
      "    to generate API key and add the line\n",
      "      api_key = [YOUR API KEY]\n",
      "    to ~/.lambda_cloud/lambda_keys\n",
      "\n",
      "SkyPilot will use only the enabled clouds to run tasks. To change this, configure cloud credentials, and run \u001b[1msky check\u001b[0m.\n",
      "\u001b[2mIf any problems remain, please file an issue at https://github.com/skypilot-org/skypilot/issues/new\u001b[0m\n",
      "\u001b[0m"
     ]
    }
   ],
   "source": [
    "!sky check"
   ]
  },
  {
   "cell_type": "markdown",
   "metadata": {},
   "source": [
    "## Creating an On-Demand Cluster\n",
    "Now, we can create a cluster on our AWS account:"
   ]
  },
  {
   "cell_type": "code",
   "execution_count": 8,
   "metadata": {},
   "outputs": [
    {
     "name": "stdout",
     "output_type": "stream",
     "text": [
      "INFO | 2023-07-19 08:14:31,753 | Attempting to load config for /olokobayusuf/rh-a10x from RNS.\n",
      "INFO | 2023-07-19 08:14:31,988 | No config found in RNS: {'detail': 'Resource does not exist'}\n",
      "INFO | 2023-07-19 08:14:31,990 | Saving config to RNS: {'name': '/olokobayusuf/rh-a10x', 'resource_type': 'cluster', 'resource_subtype': 'OnDemandCluster', 'instance_type': 'g5.2xlarge', 'num_instances': None, 'provider': 'aws', 'autostop_mins': 5, 'use_spot': False, 'image_id': None, 'region': 'us-east-1', 'sky_state': None}\n",
      "INFO | 2023-07-19 08:14:32,225 | Saving new resource in RNS for Runhouse URI <resource/olokobayusuf:rh-a10x>\n"
     ]
    },
    {
     "data": {
      "text/plain": [
       "<runhouse.rns.hardware.on_demand_cluster.OnDemandCluster at 0x121011a20>"
      ]
     },
     "execution_count": 8,
     "metadata": {},
     "output_type": "execute_result"
    }
   ],
   "source": [
    "# Create an instance on AWS\n",
    "rh.cluster(\n",
    "    name=\"rh-a10x\",\n",
    "    instance_type=\"g5.2xlarge\",\n",
    "    provider=\"aws\",\n",
    "    autostop_mins=5,\n",
    "    region=\"us-east-1\"\n",
    ").save()"
   ]
  },
  {
   "cell_type": "markdown",
   "metadata": {},
   "source": [
    "## Implementing the Predictor\n",
    "Let's create a predictor that uses StableDiffusion to generate an image from a text `prompt`. Unlike the standard `stable-diffusion` sample, here will be running the inference on a GPU in our own AWS account:"
   ]
  },
  {
   "cell_type": "code",
   "execution_count": 9,
   "metadata": {},
   "outputs": [
    {
     "name": "stdout",
     "output_type": "stream",
     "text": [
      "INFO | 2023-07-19 08:22:45,046 | Attempting to load config for /olokobayusuf/rh-a10x from RNS.\n"
     ]
    }
   ],
   "source": [
    "def stable_diffusion_generate (prompt: str):\n",
    "    # According to RH, imports must be inside the function\n",
    "    from diffusers import StableDiffusionPipeline\n",
    "    from torch import float16\n",
    "    # Create the SD pipeline\n",
    "    pipeline = StableDiffusionPipeline.from_pretrained(\"stabilityai/stable-diffusion-2-base\", torch_dtype=float16, revision=\"fp16\")\n",
    "    # Send to the GPU\n",
    "    pipeline.to(\"cuda\")\n",
    "    # Generate an image\n",
    "    result = pipeline(prompt).images[0]\n",
    "    # Return\n",
    "    return result"
   ]
  },
  {
   "cell_type": "markdown",
   "metadata": {},
   "source": [
    "The `stable_diffusion_generate` function will be sent to our GPU cluster for inference. With this, we can now write our Function predictor:"
   ]
  },
  {
   "cell_type": "code",
   "execution_count": null,
   "metadata": {},
   "outputs": [],
   "source": [
    "# Get our GPU cluster\n",
    "gpu = rh.cluster(name=\"rh-a10x\")\n",
    "\n",
    "# Send the `stable_diffusion_generate` function to our GPU cluster using RH\n",
    "stable_diffusion_generate = rh.function(fn=stable_diffusion_generate).to(\n",
    "    gpu,\n",
    "    env=[\"./\", \"torch --upgrade --extra-index-url https://download.pytorch.org/whl/cu117\", \"diffusers\", \"transformers\"]\n",
    ")\n",
    "\n",
    "# Define the Function predictor\n",
    "def predict (prompt: str):\n",
    "    # Generate an image by sending to our custom cluster\n",
    "    result = stable_diffusion_generate(prompt)\n",
    "    # Return the result\n",
    "    return result"
   ]
  },
  {
   "cell_type": "markdown",
   "metadata": {},
   "source": [
    "## Creating the Predictor on Function\n",
    "Because we're bringing our own GPU, we can create the predictor on Function and use CPU acceleration:\n",
    "```bash\n",
    "fxn create @username/byo-gpu bring-your-gpu.ipynb --overwrite\n",
    "```\n",
    "\n",
    "> Replace `username` with your Function username."
   ]
  },
  {
   "cell_type": "markdown",
   "metadata": {},
   "source": []
  }
 ],
 "metadata": {
  "kernelspec": {
   "display_name": "Python 3",
   "language": "python",
   "name": "python3"
  },
  "language_info": {
   "codemirror_mode": {
    "name": "ipython",
    "version": 3
   },
   "file_extension": ".py",
   "mimetype": "text/x-python",
   "name": "python",
   "nbconvert_exporter": "python",
   "pygments_lexer": "ipython3",
   "version": "3.10.10"
  },
  "orig_nbformat": 4
 },
 "nbformat": 4,
 "nbformat_minor": 2
}
