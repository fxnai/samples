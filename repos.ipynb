{
 "cells": [
  {
   "cell_type": "markdown",
   "metadata": {},
   "source": [
    "# Using Git Repos\n",
    "*INCOMPLETE*"
   ]
  },
  {
   "cell_type": "markdown",
   "metadata": {},
   "source": [
    "## Dependencies"
   ]
  },
  {
   "cell_type": "code",
   "execution_count": null,
   "metadata": {},
   "outputs": [],
   "source": [
    "# Clone GFPGAN\n",
    "!git clone https://github.com/TencentARC/GFPGAN.git\n",
    "\n",
    "# Enter the GFPGAN directory\n",
    "%cd GFPGAN"
   ]
  },
  {
   "cell_type": "code",
   "execution_count": null,
   "metadata": {},
   "outputs": [],
   "source": [
    "# Install basicsr - https://github.com/xinntao/BasicSR\n",
    "%pip install basicsr\n",
    "# Install facexlib - https://github.com/xinntao/facexlib\n",
    "%pip install facexlib\n",
    "# Install OpenCV\n",
    "%pip install opencv-python-headless\n",
    "# Install other requirements from the repo\n",
    "%pip install -r requirements.txt\n",
    "# Install GPFGAN as a python package\n",
    "!python setup.py develop\n",
    "# Install Real-ESRGAN\n",
    "%pip install realesrgan"
   ]
  },
  {
   "cell_type": "code",
   "execution_count": null,
   "metadata": {},
   "outputs": [],
   "source": [
    "# Download the pretrained model\n",
    "!wget https://github.com/TencentARC/GFPGAN/releases/download/v1.3.0/GFPGANv1.3.pth -P experiments/pretrained_models"
   ]
  },
  {
   "cell_type": "markdown",
   "metadata": {},
   "source": [
    "## Implementation"
   ]
  },
  {
   "cell_type": "code",
   "execution_count": null,
   "metadata": {},
   "outputs": [],
   "source": [
    "from pathlib import Path\n",
    "from PIL import Image\n",
    "import sys\n",
    "from tempfile import mkstemp, TemporaryDirectory\n",
    "\n",
    "# This script will be available once we clone the repo\n",
    "from inference_gfpgan import main\n",
    "\n",
    "def predict (image: Image.Image):\n",
    "    # Write input image to file\n",
    "    _, image_path = mkstemp(suffix=\".jpg\")\n",
    "    image.save(image_path)\n",
    "    # Run GPFGAN\n",
    "    with TemporaryDirectory() as result_dir:\n",
    "        # Run the inference script directly\n",
    "        command = f\"python inference_gfpgan.py -i {image_path} -o {result_dir} -v 1.3 -s 2\"\n",
    "        sys.argv = command.split(\" \")[1:]\n",
    "        main()\n",
    "        # Load the result image\n",
    "        image_name = Path(image_path).name\n",
    "        result_path = Path(result_dir) / \"restored_imgs\" / image_name\n",
    "        result = Image.open(result_path)\n",
    "        result.load()\n",
    "    # Return the image\n",
    "    return result"
   ]
  }
 ],
 "metadata": {
  "language_info": {
   "name": "python"
  },
  "orig_nbformat": 4
 },
 "nbformat": 4,
 "nbformat_minor": 2
}
