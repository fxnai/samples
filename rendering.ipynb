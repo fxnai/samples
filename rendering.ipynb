{
 "cells": [
  {
   "cell_type": "markdown",
   "metadata": {},
   "source": [
    "# Rendering with Blender\n",
    "This predictor demonstrates using Function as a serverless 3D rendering service. To do so, we use the open-source Blender program."
   ]
  },
  {
   "cell_type": "markdown",
   "metadata": {},
   "source": [
    "## Dependencies\n",
    "First, we need to install system library dependencies:"
   ]
  },
  {
   "cell_type": "code",
   "execution_count": null,
   "metadata": {},
   "outputs": [],
   "source": [
    "# Install Blender system library dependencies\n",
    "!apt-get install build-essential subversion cmake libx11-dev                        \\\n",
    "    libsm-dev libxxf86vm-dev libxcursor-dev libxi-dev libxrandr-dev                 \\\n",
    "    libxinerama-dev libegl-dev libwayland-dev wayland-protocols libxkbcommon-dev    \\\n",
    "    libdbus-1-dev linux-libc-dev -y"
   ]
  },
  {
   "cell_type": "markdown",
   "metadata": {},
   "source": [
    "Now, let's install Blender for Python:"
   ]
  },
  {
   "cell_type": "code",
   "execution_count": null,
   "metadata": {},
   "outputs": [],
   "source": [
    "# Install Blender for Python\n",
    "%pip install bpy"
   ]
  },
  {
   "cell_type": "markdown",
   "metadata": {},
   "source": [
    "## Implementation"
   ]
  },
  {
   "cell_type": "code",
   "execution_count": 7,
   "metadata": {},
   "outputs": [],
   "source": [
    "from PIL import Image\n",
    "from tempfile import mkstemp\n",
    "\n",
    "def predict () -> Image.Image:\n",
    "    \"\"\"\n",
    "    Render the default cube scene in Blender and return the image.\n",
    "\n",
    "    Returns:\n",
    "        PIL.Image: Result image.\n",
    "    \"\"\"\n",
    "    # Load the default scene\n",
    "    from bpy import context, data, ops\n",
    "    ops.wm.read_homefile()    \n",
    "    # Configure Cycles renderer to use all available GPUs\n",
    "    context.scene.render.engine = \"CYCLES\"\n",
    "    cycles_settings = context.scene.cycles\n",
    "    cycles_settings.samples = 16\n",
    "    context.scene.cycles.device = \"GPU\"\n",
    "    context.preferences.addons[\"cycles\"].preferences.compute_device_type = \"OPTIX\"\n",
    "    context.preferences.addons[\"cycles\"].preferences.get_devices()\n",
    "    for device in context.preferences.addons[\"cycles\"].preferences.devices:\n",
    "        device[\"use\"] = True\n",
    "    # Render to image\n",
    "    _, render_path = mkstemp(suffix=\".png\")\n",
    "    context.scene.render.filepath = render_path\n",
    "    ops.render.render(write_still=True)\n",
    "    # Load rendered image\n",
    "    result = Image.open(render_path)\n",
    "    # Return\n",
    "    return result"
   ]
  },
  {
   "cell_type": "markdown",
   "metadata": {},
   "source": [
    "## Provisioning\n",
    "We want our renderer to be GPU-accelerated, so we'll use the `A40` acceleration. Open a terminal and run the following command:\n",
    "```bash\n",
    "# Create the predictor on Function and use GPU acceleration\n",
    "fxn create @username/rendering rendering.ipynb --acceleration A40\n",
    "```\n",
    "\n",
    "> Replace `username` with your Function username."
   ]
  },
  {
   "cell_type": "markdown",
   "metadata": {},
   "source": []
  }
 ],
 "metadata": {
  "kernelspec": {
   "display_name": "Python 3",
   "language": "python",
   "name": "python3"
  },
  "language_info": {
   "codemirror_mode": {
    "name": "ipython",
    "version": 3
   },
   "file_extension": ".py",
   "mimetype": "text/x-python",
   "name": "python",
   "nbconvert_exporter": "python",
   "pygments_lexer": "ipython3",
   "version": "3.10.10"
  },
  "orig_nbformat": 4
 },
 "nbformat": 4,
 "nbformat_minor": 2
}
