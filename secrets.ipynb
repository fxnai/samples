{
 "cells": [
  {
   "cell_type": "markdown",
   "metadata": {},
   "source": [
    "# Using Secrets in Function\n",
    "This predictor demonstrates how to use environment variables in Function. We're building a lightweight transcription predictor which accepts a waveform audio file and returns the transcribed text."
   ]
  },
  {
   "cell_type": "markdown",
   "metadata": {},
   "source": [
    "## Environment Variables\n",
    "Below is a table of environment variables that this predictor requires:\n",
    "\n",
    "| Name | Notes |\n",
    "|:--|:--|\n",
    "| `OPENAI_API_KEY` | Grab yours from [OpenAI](https://platform.openai.com/account/api-keys). |"
   ]
  },
  {
   "cell_type": "markdown",
   "metadata": {},
   "source": [
    "## Dependencies"
   ]
  },
  {
   "cell_type": "code",
   "execution_count": null,
   "metadata": {},
   "outputs": [],
   "source": [
    "# Install OpenAI library\n",
    "%pip install openai"
   ]
  },
  {
   "cell_type": "markdown",
   "metadata": {},
   "source": [
    "## Implementation"
   ]
  },
  {
   "cell_type": "code",
   "execution_count": 2,
   "metadata": {},
   "outputs": [],
   "source": [
    "import openai\n",
    "from os import environ\n",
    "from pathlib import Path\n",
    "\n",
    "# Specify our OpenAI API key\n",
    "openai.api_key = environ.get(\"OPENAI_API_KEY\")\n",
    "\n",
    "def predict (audio: Path) -> str:\n",
    "    # Make sure that the audio file has a \".wav\" extension\n",
    "    audio = audio.rename(audio.with_suffix(f\".wav\"))\n",
    "    # Transcribe\n",
    "    with open(audio, \"rb\") as f:\n",
    "        transcript = openai.Audio.transcribe(\"whisper-1\", f)\n",
    "    # Return\n",
    "    return transcript[\"text\"]"
   ]
  },
  {
   "cell_type": "markdown",
   "metadata": {},
   "source": [
    "## Provisioning\n",
    "To provision this predictor, open a terminal and run the following command:\n",
    "```bash\n",
    "# Create the predictor on Function\n",
    "fxn create @username/transcribe secrets.ipynb --env OPENAI_API_KEY=<Your OpenAI API key>\n",
    "```\n",
    "\n",
    "> Replace `username` with your Function username."
   ]
  },
  {
   "cell_type": "markdown",
   "metadata": {},
   "source": []
  }
 ],
 "metadata": {
  "kernelspec": {
   "display_name": "Python 3",
   "language": "python",
   "name": "python3"
  },
  "language_info": {
   "codemirror_mode": {
    "name": "ipython",
    "version": 3
   },
   "file_extension": ".py",
   "mimetype": "text/x-python",
   "name": "python",
   "nbconvert_exporter": "python",
   "pygments_lexer": "ipython3",
   "version": "3.10.10"
  },
  "orig_nbformat": 4
 },
 "nbformat": 4,
 "nbformat_minor": 2
}
